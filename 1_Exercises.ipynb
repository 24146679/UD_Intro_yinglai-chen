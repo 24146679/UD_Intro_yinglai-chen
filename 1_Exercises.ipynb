{
 "cells": [
  {
   "cell_type": "markdown",
   "id": "38e188a5",
   "metadata": {},
   "source": [
    "# Exercise 00\n",
    "Write a piece of code that allocates a list of 20 integers and initializes each element by its index multiplied by 5. Print the result."
   ]
  },
  {
   "cell_type": "code",
   "execution_count": 10,
   "id": "01aa4f35",
   "metadata": {},
   "outputs": [],
   "source": [
    "myList = []\n",
    "for i in range(20):\n",
    "    myList.append(i*5)"
   ]
  },
  {
   "cell_type": "code",
   "execution_count": 11,
   "id": "8cd1ca42-8b2b-4484-ad48-c4ff1c087a53",
   "metadata": {},
   "outputs": [
    {
     "name": "stdout",
     "output_type": "stream",
     "text": [
      "[0, 5, 10, 15, 20, 25, 30, 35, 40, 45, 50, 55, 60, 65, 70, 75, 80, 85, 90, 95]\n"
     ]
    }
   ],
   "source": [
    "print(myList)"
   ]
  },
  {
   "cell_type": "markdown",
   "id": "529d91ae",
   "metadata": {},
   "source": [
    "# Exercise 01\n",
    "Define a function that takes an integer as input, prints  all integers that it is divisable by, and returns the largest one."
   ]
  },
  {
   "cell_type": "code",
   "execution_count": 20,
   "id": "30e79132",
   "metadata": {},
   "outputs": [],
   "source": [
    "def beichushu(n):\n",
    "    beichushu = []\n",
    "    for i in range(1, n + 1):\n",
    "        if n % i == 0:\n",
    "            chushu=(i)\n",
    "            print(i)\n",
    "    return beichushu"
   ]
  },
  {
   "cell_type": "code",
   "execution_count": 23,
   "id": "f3f83783-2a42-4e9d-8be6-0816e31d345b",
   "metadata": {},
   "outputs": [
    {
     "name": "stdout",
     "output_type": "stream",
     "text": [
      "1\n",
      "3\n",
      "5\n",
      "15\n"
     ]
    },
    {
     "data": {
      "text/plain": [
       "[]"
      ]
     },
     "execution_count": 23,
     "metadata": {},
     "output_type": "execute_result"
    }
   ],
   "source": [
    "beichushu(15)"
   ]
  },
  {
   "cell_type": "markdown",
   "id": "cfbe30d4",
   "metadata": {},
   "source": [
    "# Exercise 02\n",
    "- create a dictionary with 6 keys and values of your choice\n",
    "- write a function that takes a dictionary and a value as input and returns whether the value occurs as a key in the dictionary\n",
    "- write a function that takes a dictionary as input, and returns the dictionary but the keys are swapped with their values (resolve the issue if a value occurs twice!)"
   ]
  },
  {
   "cell_type": "code",
   "execution_count": 2,
   "id": "81a81606-ccb3-48b9-a374-c862a55243ae",
   "metadata": {},
   "outputs": [
    {
     "name": "stdin",
     "output_type": "stream",
     "text": [
      "please enter a key: cat\n"
     ]
    },
    {
     "name": "stdout",
     "output_type": "stream",
     "text": [
      "this key is in dictionary\n"
     ]
    }
   ],
   "source": [
    "thisDict = {'brand':'ford',\n",
    "           'model':'mustang',\n",
    "           'year':'2024',\n",
    "           'cat':'dog',\n",
    "           'pig':'flower',\n",
    "           'river':'lake'}\n",
    "\n",
    "def dict_value(dictionary, value):\n",
    "    return value in dictionary.keys()\n",
    "keyword=input(\"please enter a key:\")\n",
    "\n",
    "if dict_value(thisDict,keyword):\n",
    "    print(\"this key is in dictionary\")\n",
    "else:\n",
    "    print(\"this key is not in dictionary\")"
   ]
  },
  {
   "cell_type": "code",
   "execution_count": 7,
   "id": "9c7900de-2593-497c-9f27-269f1679b456",
   "metadata": {},
   "outputs": [],
   "source": [
    "def swapDictionary(x):\n",
    "    newDict = {}\n",
    "    for y in x.keys():\n",
    "        newDict[x[y]]=y\n",
    "    return newDict"
   ]
  },
  {
   "cell_type": "code",
   "execution_count": 6,
   "id": "ff9ddf34-10d5-4142-aa93-5638aa8ebb46",
   "metadata": {},
   "outputs": [
    {
     "data": {
      "text/plain": [
       "{'ford': 'brand',\n",
       " 'mustang': 'model',\n",
       " '2024': 'year',\n",
       " 'dog': 'cat',\n",
       " 'flower': 'pig',\n",
       " 'lake': 'river'}"
      ]
     },
     "execution_count": 6,
     "metadata": {},
     "output_type": "execute_result"
    }
   ],
   "source": [
    "swapDictionary(thisDict)"
   ]
  },
  {
   "cell_type": "markdown",
   "id": "b4b4e426",
   "metadata": {},
   "source": [
    "# Exercise 03\n",
    "Define a function that creates a dictionary of the first n fibonacci numbers as values paired with their indices as keys. "
   ]
  },
  {
   "cell_type": "code",
   "execution_count": 24,
   "id": "7845b5a4",
   "metadata": {},
   "outputs": [],
   "source": [
    "def fibonacciDict(n):\n",
    "    fibonacci={}\n",
    "    v1 = 0\n",
    "    v2 = 1\n",
    "    for i in range(n):\n",
    "        fibonacci[i]=v1\n",
    "        t = v1 + v2\n",
    "        v1 = v2\n",
    "        v2 = t\n",
    "    return fibonacci"
   ]
  },
  {
   "cell_type": "code",
   "execution_count": 30,
   "id": "b56a447b-ac9e-492e-8342-89dd544b2640",
   "metadata": {},
   "outputs": [
    {
     "name": "stdout",
     "output_type": "stream",
     "text": [
      "{0: 0, 1: 1, 2: 1, 3: 2, 4: 3, 5: 5, 6: 8}\n"
     ]
    }
   ],
   "source": [
    "print(fibonacciDict(7))"
   ]
  }
 ],
 "metadata": {
  "kernelspec": {
   "display_name": "Python 3",
   "language": "python",
   "name": "python3"
  },
  "language_info": {
   "codemirror_mode": {
    "name": "ipython",
    "version": 3
   },
   "file_extension": ".py",
   "mimetype": "text/x-python",
   "name": "python",
   "nbconvert_exporter": "python",
   "pygments_lexer": "ipython3",
   "version": "3.8.8"
  }
 },
 "nbformat": 4,
 "nbformat_minor": 5
}
